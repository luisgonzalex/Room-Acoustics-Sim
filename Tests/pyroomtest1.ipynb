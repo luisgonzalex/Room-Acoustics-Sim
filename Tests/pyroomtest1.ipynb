{
 "cells": [
  {
   "cell_type": "code",
   "execution_count": 1,
   "metadata": {
    "collapsed": true
   },
   "outputs": [],
   "source": [
    "# import the necessary libraries\n",
    "import numpy as np\n",
    "import matplotlib.pyplot as plt\n",
    "from scipy.io import wavfile\n",
    "from scipy.signal import fftconvolve\n",
    "import IPython\n",
    "import pyroomacoustics as pra\n",
    "import itertools as it\n",
    "import ast"
   ]
  },
  {
   "cell_type": "code",
   "execution_count": 2,
   "metadata": {
    "collapsed": true
   },
   "outputs": [],
   "source": [
    "\n",
    "# allows us to convert string to list\n",
    "# corners = ast.literal_eval(user_corners)\n",
    "\n",
    "# user_max_order = int(input(\"Enter max order: \"))\n",
    "# user_absorption = float(input(\"Enter an absorption: \"))\n",
    "\n",
    "# or just do it manually for debugging\n",
    "corners = [[0,0], [0,3], [5,3], [5, 1], [3,1], [3,0]]\n",
    "user_max_order = 8\n",
    "user_absorption = 0.67\n",
    "\n",
    "\n",
    "# find the max of x and y coordinates\n",
    "x_vals = [x for x,y in corners]\n",
    "x_max = max(x_vals) + 1\n",
    "y_vals = [y for x,y in corners]\n",
    "y_max = max(y_vals) + 1\n",
    "\n",
    "# use itertools to find all coordinates in the box\n",
    "all_coords = list(it.product([i for i in range(x_max)], [j for j in range(y_max)]))\n",
    "\n",
    "# set up pyroomacoustics variables\n",
    "np_corners = np.array(corners).T\n",
    "# specify a signal source\n",
    "fs, signal = wavfile.read(\"Room-Acoustics-Sim\\Tests\\FCJF0_SA1.wav\")"
   ]
  },
  {
   "cell_type": "code",
   "execution_count": null,
   "metadata": {},
   "outputs": [],
   "source": []
  },
  {
   "cell_type": "code",
   "execution_count": null,
   "metadata": {},
   "outputs": [],
   "source": []
  }
 ],
 "metadata": {
  "kernelspec": {
   "display_name": "Python 2",
   "language": "python",
   "name": "python2"
  },
  "language_info": {
   "codemirror_mode": {
    "name": "ipython",
    "version": 2
   },
   "file_extension": ".py",
   "mimetype": "text/x-python",
   "name": "python",
   "nbconvert_exporter": "python",
   "pygments_lexer": "ipython2",
   "version": "2.7.6"
  }
 },
 "nbformat": 4,
 "nbformat_minor": 0
}
